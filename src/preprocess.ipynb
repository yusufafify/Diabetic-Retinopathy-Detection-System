{
 "cells": [
  {
   "cell_type": "code",
   "execution_count": 32,
   "id": "c8ee2293",
   "metadata": {},
   "outputs": [],
   "source": [
    "import os\n",
    "import cv2\n",
    "import numpy as np\n",
    "from pathlib import Path\n",
    "from tqdm import tqdm\n",
    "import pandas as pd"
   ]
  },
  {
   "cell_type": "code",
   "execution_count": 33,
   "id": "ff61035a",
   "metadata": {},
   "outputs": [],
   "source": [
    "RAW_DIR = Path(\"data/raw\")\n",
    "PROCESSED_DIR = Path(\"data/processed\")\n",
    "IMG_SIZE = 512  # Resize images to 512x512\n",
    "\n",
    "LESION_TYPES = {\n",
    "    \"Microaneurysms\": \"_MA\",\n",
    "    \"Haemorrhages\": \"_HE\",\n",
    "    \"Hard Exudates\": \"_EX\",\n",
    "    \"Soft Exudates\": \"_SE\",\n",
    "    \"Optic Disc\": \"_OD\"\n",
    "}"
   ]
  },
  {
   "cell_type": "code",
   "execution_count": 41,
   "id": "bafd1ffe",
   "metadata": {},
   "outputs": [],
   "source": [
    "def create_dirs():\n",
    "    (PROCESSED_DIR / \"segmentation/images\").mkdir(parents=True, exist_ok=True)\n",
    "    (PROCESSED_DIR / \"segmentation/masks\").mkdir(parents=True, exist_ok=True)\n",
    "    (PROCESSED_DIR / \"classification/images\").mkdir(parents=True, exist_ok=True)\n",
    "    (PROCESSED_DIR / \"classification/labels\").mkdir(parents=True, exist_ok=True)"
   ]
  },
  {
   "cell_type": "code",
   "execution_count": 42,
   "id": "bcf6197b",
   "metadata": {},
   "outputs": [],
   "source": [
    "def resize_image(img_path, size):\n",
    "    img = cv2.imread(str(img_path))\n",
    "    if img is None:\n",
    "        raise ValueError(f\"Failed to read image: {img_path}\")\n",
    "    img = cv2.resize(img, (size, size))\n",
    "    return img"
   ]
  },
  {
   "cell_type": "code",
   "execution_count": 43,
   "id": "6436f3fa",
   "metadata": {},
   "outputs": [],
   "source": [
    "def preprocess_segmentation():\n",
    "    img_dir = RAW_DIR / \"Segmentation/training set/original images\"\n",
    "    gt_root = RAW_DIR / \"Segmentation/training set/ground truths\"\n",
    "\n",
    "    print(f\"Processing segmentation data from:\\n- Images: {img_dir}\\n- Masks: {gt_root}\")\n",
    "\n",
    "    for img_path in tqdm(list(img_dir.glob(\"*.jpg\")), desc=\"Processing Segmentation\"):\n",
    "        try:\n",
    "            # Process and save image\n",
    "            image = resize_image(img_path, IMG_SIZE)\n",
    "            out_img_path = PROCESSED_DIR / \"segmentation/images\" / img_path.name\n",
    "            cv2.imwrite(str(out_img_path), image)\n",
    "\n",
    "            # Create multi-channel mask\n",
    "            composite_mask = np.zeros((IMG_SIZE, IMG_SIZE, len(LESION_TYPES)), dtype=np.uint8)\n",
    "            \n",
    "            for channel_idx, (lesion_type, suffix) in enumerate(LESION_TYPES.items()):\n",
    "                mask_path = gt_root / lesion_type / f\"{img_path.stem}{suffix}.tif\"\n",
    "                \n",
    "                if mask_path.exists():\n",
    "                    mask = cv2.imread(str(mask_path), cv2.IMREAD_GRAYSCALE)\n",
    "                    mask = cv2.resize(mask, (IMG_SIZE, IMG_SIZE))\n",
    "                    _, binary_mask = cv2.threshold(mask, 127, 255, cv2.THRESH_BINARY)\n",
    "                    composite_mask[:, :, channel_idx] = binary_mask\n",
    "\n",
    "            # Save mask as numpy array\n",
    "            mask_filename = img_path.stem + \".npy\"\n",
    "            out_mask_path = PROCESSED_DIR / \"segmentation/masks\" / mask_filename\n",
    "            np.save(out_mask_path, composite_mask)\n",
    "\n",
    "        except Exception as e:\n",
    "            print(f\"Error processing {img_path.name}: {str(e)}\")\n",
    "            continue\n"
   ]
  },
  {
   "cell_type": "code",
   "execution_count": 45,
   "id": "29810b05",
   "metadata": {},
   "outputs": [],
   "source": [
    "def preprocess_classification():\n",
    "    img_dir = RAW_DIR / \"Disease Grading/1. Original Images\"\n",
    "    labels_path = RAW_DIR / \"Disease Grading/2. Groundtruths/IDRiD_Disease Grading_Training Labels.csv\"\n",
    "\n",
    "    labels_df = pd.read_csv(labels_path)\n",
    "\n",
    "    for idx, row in tqdm(labels_df.iterrows(), total=len(labels_df), desc=\"Processing Classification\"):\n",
    "        try:\n",
    "            img_file = row['Image name'] + \".jpg\"\n",
    "            img_path = img_dir / img_file\n",
    "            \n",
    "            image = resize_image(img_path, IMG_SIZE)\n",
    "            out_img_path = PROCESSED_DIR / \"classification/images\" / img_file\n",
    "            label_file = PROCESSED_DIR / \"classification/labels\" / (row['Image name'] + \".txt\")\n",
    "            \n",
    "            cv2.imwrite(str(out_img_path), image)\n",
    "            with open(label_file, \"w\") as f:\n",
    "                f.write(str(row['Retinopathy grade']))\n",
    "        except Exception as e:\n",
    "            print(f\"Error processing {img_file}: {str(e)}\")\n",
    "            continue"
   ]
  },
  {
   "cell_type": "code",
   "execution_count": 47,
   "id": "69fe2539",
   "metadata": {},
   "outputs": [
    {
     "name": "stdout",
     "output_type": "stream",
     "text": [
      "Processing segmentation data from:\n",
      "- Images: data\\raw\\Segmentation\\training set\\original images\n",
      "- Masks: data\\raw\\Segmentation\\training set\\ground truths\n"
     ]
    },
    {
     "name": "stderr",
     "output_type": "stream",
     "text": [
      "Processing Segmentation:   0%|          | 0/54 [00:00<?, ?it/s]"
     ]
    },
    {
     "name": "stderr",
     "output_type": "stream",
     "text": [
      "Processing Segmentation: 100%|██████████| 54/54 [00:02<00:00, 21.53it/s]\n",
      "Processing Classification: 100%|██████████| 413/413 [00:18<00:00, 22.66it/s]"
     ]
    },
    {
     "name": "stdout",
     "output_type": "stream",
     "text": [
      "Preprocessing complete.\n"
     ]
    },
    {
     "name": "stderr",
     "output_type": "stream",
     "text": [
      "\n"
     ]
    }
   ],
   "source": [
    "create_dirs()\n",
    "preprocess_segmentation()\n",
    "preprocess_classification()\n",
    "print(\"Preprocessing complete.\")"
   ]
  }
 ],
 "metadata": {
  "kernelspec": {
   "display_name": ".venv",
   "language": "python",
   "name": "python3"
  },
  "language_info": {
   "codemirror_mode": {
    "name": "ipython",
    "version": 3
   },
   "file_extension": ".py",
   "mimetype": "text/x-python",
   "name": "python",
   "nbconvert_exporter": "python",
   "pygments_lexer": "ipython3",
   "version": "3.11.0"
  }
 },
 "nbformat": 4,
 "nbformat_minor": 5
}
